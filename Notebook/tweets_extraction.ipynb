{
 "cells": [
  {
   "cell_type": "code",
   "execution_count": 11,
   "metadata": {},
   "outputs": [],
   "source": [
    "import pandas as pd\n",
    "import numpy as np\n",
    "import requests\n",
    "import tweepy\n",
    "import config\n",
    "from tqdm import tqdm\n",
    "import re"
   ]
  },
  {
   "cell_type": "markdown",
   "metadata": {},
   "source": [
    "### Tweeters of Interest\n",
    "https://twitter.com/wojespn\n",
    "<br>\n",
    "https://twitter.com/stephenasmith\n",
    "<br>\n",
    "https://twitter.com/maxkellerman\n",
    "<br>\n",
    "https://twitter.com/thesteinline\n",
    "<br>\n",
    "https://twitter.com/RicBucher"
   ]
  },
  {
   "cell_type": "markdown",
   "metadata": {},
   "source": [
    "## Authentication"
   ]
  },
  {
   "cell_type": "code",
   "execution_count": 4,
   "metadata": {},
   "outputs": [],
   "source": [
    "auth = tweepy.OAuth1UserHandler(config.API_KEY, config.API_SECRET_KEY, config.ACCESS_TOKEN, config.SECRET_TOKEN)\n",
    "api = tweepy.API(auth)"
   ]
  },
  {
   "cell_type": "markdown",
   "metadata": {},
   "source": [
    "## Extraction"
   ]
  },
  {
   "cell_type": "code",
   "execution_count": 5,
   "metadata": {},
   "outputs": [],
   "source": [
    "def get_user_tweets(twitter_username):\n",
    "    # extract\n",
    "    response = api.user_timeline(screen_name=twitter_username, count=200, exclude_replies=True, include_rts=False,  tweet_mode = \"extended\")\n",
    "\n",
    "    cols = [x for x in dir(response[0]) if '__' not in x]\n",
    "    cols.remove('_api')\n",
    "    cols.remove('_json')\n",
    "\n",
    "    # prep for df\n",
    "    tweets_obj_list = []\n",
    "    for i in range(len(response)):\n",
    "        row_obj = dict()\n",
    "        for col in cols:\n",
    "            try:\n",
    "                row_obj[col] = response[i]._json[col]\n",
    "            except:\n",
    "                row_obj[col] = None\n",
    "        tweets_obj_list.append(row_obj)\n",
    "\n",
    "    df_tweets = pd.DataFrame(tweets_obj_list)\n",
    "\n",
    "    return df_tweets"
   ]
  },
  {
   "cell_type": "code",
   "execution_count": 6,
   "metadata": {},
   "outputs": [],
   "source": [
    "twitter_usernames = ['wojespn', 'stephenasmith', 'maxkellerman', 'thesteinline', 'RicBucher']"
   ]
  },
  {
   "cell_type": "code",
   "execution_count": 7,
   "metadata": {},
   "outputs": [
    {
     "name": "stderr",
     "output_type": "stream",
     "text": [
      "100%|██████████| 5/5 [00:02<00:00,  1.89it/s]\n"
     ]
    }
   ],
   "source": [
    "dfs_list = []\n",
    "for user in tqdm(twitter_usernames):\n",
    "    df_user_tweets = get_user_tweets(user)\n",
    "    dfs_list.append(df_user_tweets)\n",
    "df_agg_tweets = pd.concat(dfs_list, axis=0)"
   ]
  },
  {
   "cell_type": "code",
   "execution_count": 8,
   "metadata": {},
   "outputs": [],
   "source": [
    "df_agg_tweets.to_csv('../data/tweets_raw.csv')"
   ]
  },
  {
   "cell_type": "markdown",
   "metadata": {},
   "source": [
    "## Data Preprocessing"
   ]
  },
  {
   "cell_type": "code",
   "execution_count": 10,
   "metadata": {},
   "outputs": [],
   "source": [
    "tweets_list = list(df_agg_tweets['full_text'])"
   ]
  },
  {
   "cell_type": "code",
   "execution_count": 12,
   "metadata": {},
   "outputs": [],
   "source": [
    "# remove links\n",
    "tweets_list = [re.sub(r'http\\S+', '', x).replace(':', '').replace('\\n', '') for x in tweets_list]\n",
    "\n",
    "# remove emojis\n",
    "emoji_pattern = re.compile(\"[\"\n",
    "        u\"\\U0001F600-\\U0001F64F\"  # emoticons\n",
    "        u\"\\U0001F300-\\U0001F5FF\"  # symbols & pictographs\n",
    "        u\"\\U0001F680-\\U0001F6FF\"  # transport & map symbols\n",
    "        u\"\\U0001F1E0-\\U0001F1FF\"  # flags (iOS)\n",
    "                           \"]+\", flags=re.UNICODE)\n",
    "\n",
    "tweets_list = [emoji_pattern.sub(r'', x) for x in tweets_list]"
   ]
  },
  {
   "cell_type": "code",
   "execution_count": 13,
   "metadata": {},
   "outputs": [],
   "source": [
    "# write out in a txt file\n",
    "file_name = '../data/processed_tweets.txt'\n",
    "with open(file_name, 'w') as fp:\n",
    "    for tweet in tweets_list:\n",
    "        if tweet not in ['', ' ']:\n",
    "            fp.write(tweet + '\\n\\n')\n",
    "fp.close()"
   ]
  },
  {
   "cell_type": "code",
   "execution_count": null,
   "metadata": {},
   "outputs": [],
   "source": []
  }
 ],
 "metadata": {
  "kernelspec": {
   "display_name": "Python 3.9.13 ('base')",
   "language": "python",
   "name": "python3"
  },
  "language_info": {
   "codemirror_mode": {
    "name": "ipython",
    "version": 3
   },
   "file_extension": ".py",
   "mimetype": "text/x-python",
   "name": "python",
   "nbconvert_exporter": "python",
   "pygments_lexer": "ipython3",
   "version": "3.9.13"
  },
  "orig_nbformat": 4,
  "vscode": {
   "interpreter": {
    "hash": "c6e4e9f98eb68ad3b7c296f83d20e6de614cb42e90992a65aa266555a3137d0d"
   }
  }
 },
 "nbformat": 4,
 "nbformat_minor": 2
}
