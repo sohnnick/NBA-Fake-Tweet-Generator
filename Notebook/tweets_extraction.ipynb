{
 "cells": [
  {
   "cell_type": "code",
   "execution_count": 8,
   "metadata": {},
   "outputs": [],
   "source": [
    "import pandas as pd\n",
    "import numpy as np\n",
    "import requests\n",
    "import tweepy\n",
    "import config\n",
    "from tqdm import tqdm"
   ]
  },
  {
   "cell_type": "markdown",
   "metadata": {},
   "source": [
    "### Tweeters of Interest\n",
    "https://twitter.com/wojespn\n",
    "<br>\n",
    "https://twitter.com/stephenasmith\n",
    "<br>\n",
    "https://twitter.com/maxkellerman\n",
    "<br>\n",
    "https://twitter.com/thesteinline\n",
    "<br>\n",
    "https://twitter.com/RicBucher"
   ]
  },
  {
   "cell_type": "markdown",
   "metadata": {},
   "source": [
    "## Authentication"
   ]
  },
  {
   "cell_type": "code",
   "execution_count": 2,
   "metadata": {},
   "outputs": [],
   "source": [
    "auth = tweepy.OAuth1UserHandler(config.API_KEY, config.API_SECRET_KEY, config.ACCESS_TOKEN, config.SECRET_TOKEN)\n",
    "api = tweepy.API(auth)"
   ]
  },
  {
   "cell_type": "markdown",
   "metadata": {},
   "source": [
    "## Extraction"
   ]
  },
  {
   "cell_type": "code",
   "execution_count": 34,
   "metadata": {},
   "outputs": [],
   "source": [
    "def get_user_tweets(twitter_username):\n",
    "    # extract\n",
    "    response = api.user_timeline(screen_name=twitter_username, count=200, exclude_replies=True, include_rts=False,  tweet_mode = \"extended\")\n",
    "\n",
    "    cols = [x for x in dir(response[0]) if '__' not in x]\n",
    "    cols.remove('_api')\n",
    "    cols.remove('_json')\n",
    "\n",
    "    # prep for df\n",
    "    tweets_obj_list = []\n",
    "    for i in range(len(response)):\n",
    "        row_obj = dict()\n",
    "        for col in cols:\n",
    "            try:\n",
    "                row_obj[col] = response[i]._json[col]\n",
    "            except:\n",
    "                row_obj[col] = None\n",
    "        tweets_obj_list.append(row_obj)\n",
    "\n",
    "    df_tweets = pd.DataFrame(tweets_obj_list)\n",
    "\n",
    "    return df_tweets"
   ]
  },
  {
   "cell_type": "code",
   "execution_count": 35,
   "metadata": {},
   "outputs": [],
   "source": [
    "twitter_usernames = ['wojespn', 'stephenasmith', 'maxkellerman', 'thesteinline', 'RicBucher']"
   ]
  },
  {
   "cell_type": "code",
   "execution_count": 36,
   "metadata": {},
   "outputs": [
    {
     "name": "stderr",
     "output_type": "stream",
     "text": [
      "100%|██████████| 5/5 [00:02<00:00,  1.94it/s]\n"
     ]
    }
   ],
   "source": [
    "dfs_list = []\n",
    "for user in tqdm(twitter_usernames):\n",
    "    df_user_tweets = get_user_tweets(user)\n",
    "    dfs_list.append(df_user_tweets)\n",
    "df_agg_tweets = pd.concat(dfs_list, axis=0)"
   ]
  },
  {
   "cell_type": "code",
   "execution_count": 39,
   "metadata": {},
   "outputs": [],
   "source": [
    "df_agg_tweets.to_csv('../Data/Tweets/tweets.csv')"
   ]
  },
  {
   "cell_type": "code",
   "execution_count": null,
   "metadata": {},
   "outputs": [],
   "source": []
  }
 ],
 "metadata": {
  "kernelspec": {
   "display_name": "Python 3.9.13 ('base')",
   "language": "python",
   "name": "python3"
  },
  "language_info": {
   "codemirror_mode": {
    "name": "ipython",
    "version": 3
   },
   "file_extension": ".py",
   "mimetype": "text/x-python",
   "name": "python",
   "nbconvert_exporter": "python",
   "pygments_lexer": "ipython3",
   "version": "3.9.13"
  },
  "orig_nbformat": 4,
  "vscode": {
   "interpreter": {
    "hash": "c6e4e9f98eb68ad3b7c296f83d20e6de614cb42e90992a65aa266555a3137d0d"
   }
  }
 },
 "nbformat": 4,
 "nbformat_minor": 2
}
